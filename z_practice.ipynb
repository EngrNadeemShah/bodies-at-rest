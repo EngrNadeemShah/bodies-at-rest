{
 "cells": [
  {
   "cell_type": "code",
   "execution_count": null,
   "metadata": {},
   "outputs": [],
   "source": [
    "'data_BR/synth/quick_test/test_rollpi_f_lay_set23to24_3000_qt_convnet_1_anglesDC_184000ct_128b_x1pm_tnh_100e_2e-05lr.p'\n",
    "'data_BR\\synth\\quick_test\\test_rollpi_f_lay_set23to24_3000_qt_convnet_1_anglesDC_184000ct_128b_x1pm_tnh_clns10p_100e_2e-05lr.p'\n",
    "'data_BR\\synth\\quick_test\\test_rollpi_f_lay_set23to24_3000_qt_convnet_1_anglesDC_184000ct_128b_x5pm_tnh_clns10p_100e_00002lr.p'"
   ]
  },
  {
   "cell_type": "markdown",
   "metadata": {},
   "source": [
    "### Calculate total and available memory (RAM)"
   ]
  },
  {
   "cell_type": "code",
   "execution_count": 2,
   "metadata": {},
   "outputs": [
    {
     "name": "stdout",
     "output_type": "stream",
     "text": [
      "Total memory: 15.40 GiB\n",
      "Available memory: 5.02 GiB\n"
     ]
    }
   ],
   "source": [
    "import psutil\n",
    "\n",
    "# Get the virtual memory details\n",
    "memory_info = psutil.virtual_memory()\n",
    "\n",
    "# Total memory in bytes\n",
    "total_memory = memory_info.total\n",
    "\n",
    "# Available memory in bytes\n",
    "available_memory = memory_info.available\n",
    "\n",
    "# Convert bytes to gigabytes\n",
    "total_memory_gb = total_memory / (1024 ** 3)\n",
    "available_memory_gb = available_memory / (1024 ** 3)\n",
    "\n",
    "print(f\"Total memory: {total_memory_gb:.2f} GiB\")\n",
    "print(f\"Available memory: {available_memory_gb:.2f} GiB\")"
   ]
  }
 ],
 "metadata": {
  "kernelspec": {
   "display_name": "Python 3",
   "language": "python",
   "name": "python3"
  },
  "language_info": {
   "codemirror_mode": {
    "name": "ipython",
    "version": 3
   },
   "file_extension": ".py",
   "mimetype": "text/x-python",
   "name": "python",
   "nbconvert_exporter": "python",
   "pygments_lexer": "ipython3",
   "version": "3.8.19"
  }
 },
 "nbformat": 4,
 "nbformat_minor": 2
}
