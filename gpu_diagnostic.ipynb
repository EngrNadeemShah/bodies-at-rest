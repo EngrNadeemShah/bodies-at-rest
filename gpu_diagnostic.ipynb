{
 "cells": [
  {
   "cell_type": "markdown",
   "metadata": {},
   "source": [
    "# 🔍 GPU Info Diagnostic (PyTorch + NVIDIA-SMI)"
   ]
  },
  {
   "cell_type": "code",
   "execution_count": null,
   "metadata": {},
   "outputs": [],
   "source": [
    "import torch\n",
    "import subprocess\n",
    "import os"
   ]
  },
  {
   "cell_type": "code",
   "execution_count": null,
   "metadata": {},
   "outputs": [],
   "source": [
    "# 🧠 Check PyTorch GPU info\n",
    "if torch.cuda.is_available():\n",
    "    print(f\"🟢 CUDA is available\")\n",
    "    print(f\"🔢 Number of GPUs: {torch.cuda.device_count()}\")\n",
    "    for i in range(torch.cuda.device_count()):\n",
    "        print(f\"\\n🎯 GPU {i}: {torch.cuda.get_device_name(i)}\")\n",
    "        print(f\"   • Total Memory : {round(torch.cuda.get_device_properties(i).total_memory / 1e9, 2)} GB\")\n",
    "        print(f\"   • Memory Allocated: {round(torch.cuda.memory_allocated(i) / 1e9, 2)} GB\")\n",
    "        print(f\"   • Memory Cached   : {round(torch.cuda.memory_reserved(i) / 1e9, 2)} GB\")\n",
    "else:\n",
    "    print(\"🔴 CUDA is NOT available\")"
   ]
  },
  {
   "cell_type": "code",
   "execution_count": null,
   "metadata": {},
   "outputs": [],
   "source": [
    "# 🛠️ Run nvidia-smi for full system-level info\n",
    "print(\"\\n📊 nvidia-smi output:\\n\")\n",
    "try:\n",
    "    output = subprocess.check_output(['nvidia-smi']).decode()\n",
    "    print(output)\n",
    "except Exception as e:\n",
    "    print(\"Error running nvidia-smi:\", e)"
   ]
  },
  {
   "cell_type": "code",
   "execution_count": null,
   "metadata": {},
   "outputs": [],
   "source": [
    "# 📦 Optional: PyTorch memory summary (per GPU)\n",
    "if torch.cuda.is_available():\n",
    "    print(\"\\n🧾 PyTorch CUDA Memory Summary:\")\n",
    "    print(torch.cuda.memory_summary())"
   ]
  },
  {
   "cell_type": "code",
   "execution_count": null,
   "metadata": {},
   "outputs": [],
   "source": [
    "# 🧹 Optional: Free up memory if needed\n",
    "torch.cuda.empty_cache()\n",
    "print(\"\\n✅ torch.cuda.empty_cache() called\")"
   ]
  }
 ],
 "metadata": {
  "kernelspec": {
   "display_name": "Python 3",
   "language": "python",
   "name": "python3"
  },
  "language_info": {
   "codemirror_mode": {
    "name": "ipython",
    "version": 3
   },
   "file_extension": ".py",
   "mimetype": "text/x-python",
   "name": "python",
   "nbconvert_exporter": "python",
   "pygments_lexer": "ipython3",
   "version": "3.8.19"
  }
 },
 "nbformat": 4,
 "nbformat_minor": 5
}
