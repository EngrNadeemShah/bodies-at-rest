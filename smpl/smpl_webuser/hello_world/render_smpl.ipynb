{
 "cells": [
  {
   "cell_type": "code",
   "execution_count": 1,
   "metadata": {},
   "outputs": [
    {
     "data": {
      "text/plain": [
       "'\\nCopyright 2015 Matthew Loper, Naureen Mahmood and the Max Planck Gesellschaft.  All rights reserved.\\nThis software is provided for research purposes only.\\nBy using this software you agree to the terms of the SMPL Model license here http://smpl.is.tue.mpg.de/license\\n\\nMore information about SMPL is available here http://smpl.is.tue.mpg.\\nFor comments or questions, please email us at: smpl@tuebingen.mpg.de\\n\\n\\nPlease Note:\\n============\\nThis is a demo version of the script for driving the SMPL model with python.\\nWe would be happy to receive comments, help and suggestions on improving this code \\nand in making it available on more platforms. \\n\\n\\nSystem Requirements:\\n====================\\nOperating system: OSX, Linux\\n\\nPython Dependencies:\\n- Numpy & Scipy  [http://www.scipy.org/scipylib/download.html]\\n- Chumpy [https://github.com/mattloper/chumpy]\\n- OpenCV [http://opencv.org/downloads.html] \\n  --> (alternatively: matplotlib [http://matplotlib.org/downloads.html])\\n\\n\\nAbout the Script:\\n=================\\nThis script demonstrates loading the smpl model and rendering it using OpenDR \\nto render and OpenCV to display (or alternatively matplotlib can also be used\\nfor display, as shown in commented code below). \\n\\nThis code shows how to:\\n  - Load the SMPL model\\n  - Edit pose & shape parameters of the model to create a new body in a new pose\\n  - Create an OpenDR scene (with a basic renderer, camera & light)\\n  - Render the scene using OpenCV / matplotlib\\n\\n\\nRunning the Hello World code:\\n=============================\\nInside Terminal, navigate to the smpl/webuser/hello_world directory. You can run \\nthe hello world script now by typing the following:\\n>\\tpython render_smpl.py\\n\\n\\n'"
      ]
     },
     "execution_count": 1,
     "metadata": {},
     "output_type": "execute_result"
    }
   ],
   "source": [
    "'''\n",
    "Copyright 2015 Matthew Loper, Naureen Mahmood and the Max Planck Gesellschaft.  All rights reserved.\n",
    "This software is provided for research purposes only.\n",
    "By using this software you agree to the terms of the SMPL Model license here http://smpl.is.tue.mpg.de/license\n",
    "\n",
    "More information about SMPL is available here http://smpl.is.tue.mpg.\n",
    "For comments or questions, please email us at: smpl@tuebingen.mpg.de\n",
    "\n",
    "\n",
    "Please Note:\n",
    "============\n",
    "This is a demo version of the script for driving the SMPL model with python.\n",
    "We would be happy to receive comments, help and suggestions on improving this code \n",
    "and in making it available on more platforms. \n",
    "\n",
    "\n",
    "System Requirements:\n",
    "====================\n",
    "Operating system: OSX, Linux\n",
    "\n",
    "Python Dependencies:\n",
    "- Numpy & Scipy  [http://www.scipy.org/scipylib/download.html]\n",
    "- Chumpy [https://github.com/mattloper/chumpy]\n",
    "- OpenCV [http://opencv.org/downloads.html] \n",
    "  --> (alternatively: matplotlib [http://matplotlib.org/downloads.html])\n",
    "\n",
    "\n",
    "About the Script:\n",
    "=================\n",
    "This script demonstrates loading the smpl model and rendering it using OpenDR \n",
    "to render and OpenCV to display (or alternatively matplotlib can also be used\n",
    "for display, as shown in commented code below). \n",
    "\n",
    "This code shows how to:\n",
    "  - Load the SMPL model\n",
    "  - Edit pose & shape parameters of the model to create a new body in a new pose\n",
    "  - Create an OpenDR scene (with a basic renderer, camera & light)\n",
    "  - Render the scene using OpenCV / matplotlib\n",
    "\n",
    "\n",
    "Running the Hello World code:\n",
    "=============================\n",
    "Inside Terminal, navigate to the smpl/webuser/hello_world directory. You can run \n",
    "the hello world script now by typing the following:\n",
    ">\tpython render_smpl.py\n",
    "\n",
    "\n",
    "'''"
   ]
  },
  {
   "cell_type": "code",
   "execution_count": 2,
   "metadata": {},
   "outputs": [
    {
     "name": "stdout",
     "output_type": "stream",
     "text": [
      "d:\\Coding\\bodies-at-rest\\smpl\\smpl_webuser\\hello_world\n",
      "D:\\Coding\\bodies-at-rest\n"
     ]
    }
   ],
   "source": [
    "import os\n",
    "\n",
    "print(os.getcwd())\n",
    "os.chdir(r'D:\\Coding\\bodies-at-rest')\n",
    "print(os.getcwd())"
   ]
  },
  {
   "cell_type": "code",
   "execution_count": 3,
   "metadata": {},
   "outputs": [
    {
     "ename": "AttributeError",
     "evalue": "'ColoredRenderer' object has no attribute 'vbo_verts_face'",
     "output_type": "error",
     "traceback": [
      "\u001b[1;31m---------------------------------------------------------------------------\u001b[0m",
      "\u001b[1;31mAttributeError\u001b[0m                            Traceback (most recent call last)",
      "\u001b[1;32m~\\AppData\\Local\\Temp\\ipykernel_32552\\2500737535.py\u001b[0m in \u001b[0;36m?\u001b[1;34m()\u001b[0m\n\u001b[1;32m---> 38\u001b[1;33m \u001b[1;32mimport\u001b[0m \u001b[0mnumpy\u001b[0m \u001b[1;32mas\u001b[0m \u001b[0mnp\u001b[0m\u001b[1;33m\u001b[0m\u001b[1;33m\u001b[0m\u001b[0m\n\u001b[0m\u001b[0;32m     39\u001b[0m \u001b[1;33m\u001b[0m\u001b[0m\n\u001b[0;32m     40\u001b[0m \u001b[1;32mfrom\u001b[0m \u001b[0mopendr\u001b[0m\u001b[1;33m.\u001b[0m\u001b[0mrenderer\u001b[0m \u001b[1;32mimport\u001b[0m \u001b[0mColoredRenderer\u001b[0m\u001b[1;33m\u001b[0m\u001b[1;33m\u001b[0m\u001b[0m\n\u001b[0;32m     41\u001b[0m \u001b[1;32mfrom\u001b[0m \u001b[0mopendr\u001b[0m\u001b[1;33m.\u001b[0m\u001b[0mlighting\u001b[0m \u001b[1;32mimport\u001b[0m \u001b[0mLambertianPointLight\u001b[0m\u001b[1;33m\u001b[0m\u001b[1;33m\u001b[0m\u001b[0m\n",
      "\u001b[1;32md:\\Coding\\bodies-at-rest\\env\\lib\\site-packages\\chumpy\\ch.py\u001b[0m in \u001b[0;36m?\u001b[1;34m(self)\u001b[0m\n\u001b[0;32m    592\u001b[0m     \u001b[1;33m@\u001b[0m\u001b[0mproperty\u001b[0m\u001b[1;33m\u001b[0m\u001b[1;33m\u001b[0m\u001b[0m\n\u001b[0;32m    593\u001b[0m     \u001b[1;32mdef\u001b[0m \u001b[0mr\u001b[0m\u001b[1;33m(\u001b[0m\u001b[0mself\u001b[0m\u001b[1;33m)\u001b[0m\u001b[1;33m:\u001b[0m\u001b[1;33m\u001b[0m\u001b[1;33m\u001b[0m\u001b[0m\n\u001b[1;32m--> 594\u001b[1;33m         \u001b[0mself\u001b[0m\u001b[1;33m.\u001b[0m\u001b[0m_call_on_changed\u001b[0m\u001b[1;33m(\u001b[0m\u001b[1;33m)\u001b[0m\u001b[1;33m\u001b[0m\u001b[1;33m\u001b[0m\u001b[0m\n\u001b[0m\u001b[0;32m    595\u001b[0m         \u001b[1;32mif\u001b[0m \u001b[0mself\u001b[0m\u001b[1;33m.\u001b[0m\u001b[0m_cache\u001b[0m\u001b[1;33m[\u001b[0m\u001b[1;34m'r'\u001b[0m\u001b[1;33m]\u001b[0m \u001b[1;32mis\u001b[0m \u001b[1;32mNone\u001b[0m\u001b[1;33m:\u001b[0m\u001b[1;33m\u001b[0m\u001b[1;33m\u001b[0m\u001b[0m\n\u001b[0;32m    596\u001b[0m             \u001b[0mself\u001b[0m\u001b[1;33m.\u001b[0m\u001b[0m_cache\u001b[0m\u001b[1;33m[\u001b[0m\u001b[1;34m'r'\u001b[0m\u001b[1;33m]\u001b[0m \u001b[1;33m=\u001b[0m \u001b[0mnp\u001b[0m\u001b[1;33m.\u001b[0m\u001b[0masarray\u001b[0m\u001b[1;33m(\u001b[0m\u001b[0mnp\u001b[0m\u001b[1;33m.\u001b[0m\u001b[0matleast_1d\u001b[0m\u001b[1;33m(\u001b[0m\u001b[0mself\u001b[0m\u001b[1;33m.\u001b[0m\u001b[0mcompute_r\u001b[0m\u001b[1;33m(\u001b[0m\u001b[1;33m)\u001b[0m\u001b[1;33m)\u001b[0m\u001b[1;33m,\u001b[0m \u001b[0mdtype\u001b[0m\u001b[1;33m=\u001b[0m\u001b[0mnp\u001b[0m\u001b[1;33m.\u001b[0m\u001b[0mfloat64\u001b[0m\u001b[1;33m,\u001b[0m \u001b[0morder\u001b[0m\u001b[1;33m=\u001b[0m\u001b[1;34m'C'\u001b[0m\u001b[1;33m)\u001b[0m\u001b[1;33m\u001b[0m\u001b[1;33m\u001b[0m\u001b[0m\n\u001b[0;32m    597\u001b[0m             \u001b[0mself\u001b[0m\u001b[1;33m.\u001b[0m\u001b[0m_cache\u001b[0m\u001b[1;33m[\u001b[0m\u001b[1;34m'rview'\u001b[0m\u001b[1;33m]\u001b[0m \u001b[1;33m=\u001b[0m \u001b[0mself\u001b[0m\u001b[1;33m.\u001b[0m\u001b[0m_cache\u001b[0m\u001b[1;33m[\u001b[0m\u001b[1;34m'r'\u001b[0m\u001b[1;33m]\u001b[0m\u001b[1;33m.\u001b[0m\u001b[0mview\u001b[0m\u001b[1;33m(\u001b[0m\u001b[1;33m)\u001b[0m\u001b[1;33m\u001b[0m\u001b[1;33m\u001b[0m\u001b[0m\n",
      "\u001b[1;32md:\\Coding\\bodies-at-rest\\env\\lib\\site-packages\\chumpy\\ch.py\u001b[0m in \u001b[0;36m?\u001b[1;34m(self)\u001b[0m\n\u001b[0;32m    585\u001b[0m         \u001b[1;32mif\u001b[0m \u001b[0mhasattr\u001b[0m\u001b[1;33m(\u001b[0m\u001b[0mself\u001b[0m\u001b[1;33m,\u001b[0m \u001b[1;34m'_status'\u001b[0m\u001b[1;33m)\u001b[0m\u001b[1;33m:\u001b[0m\u001b[1;33m\u001b[0m\u001b[1;33m\u001b[0m\u001b[0m\n\u001b[0;32m    586\u001b[0m             \u001b[0mself\u001b[0m\u001b[1;33m.\u001b[0m\u001b[0m_status\u001b[0m \u001b[1;33m=\u001b[0m \u001b[1;34m'new'\u001b[0m\u001b[1;33m\u001b[0m\u001b[1;33m\u001b[0m\u001b[0m\n\u001b[0;32m    587\u001b[0m \u001b[1;33m\u001b[0m\u001b[0m\n\u001b[0;32m    588\u001b[0m         \u001b[1;32mif\u001b[0m \u001b[0mlen\u001b[0m\u001b[1;33m(\u001b[0m\u001b[0mself\u001b[0m\u001b[1;33m.\u001b[0m\u001b[0m_dirty_vars\u001b[0m\u001b[1;33m)\u001b[0m \u001b[1;33m>\u001b[0m \u001b[1;36m0\u001b[0m\u001b[1;33m:\u001b[0m\u001b[1;33m\u001b[0m\u001b[1;33m\u001b[0m\u001b[0m\n\u001b[1;32m--> 589\u001b[1;33m             \u001b[0mself\u001b[0m\u001b[1;33m.\u001b[0m\u001b[0mon_changed\u001b[0m\u001b[1;33m(\u001b[0m\u001b[0mself\u001b[0m\u001b[1;33m.\u001b[0m\u001b[0m_dirty_vars\u001b[0m\u001b[1;33m)\u001b[0m\u001b[1;33m\u001b[0m\u001b[1;33m\u001b[0m\u001b[0m\n\u001b[0m\u001b[0;32m    590\u001b[0m             \u001b[0mobject\u001b[0m\u001b[1;33m.\u001b[0m\u001b[0m__setattr__\u001b[0m\u001b[1;33m(\u001b[0m\u001b[0mself\u001b[0m\u001b[1;33m,\u001b[0m \u001b[1;34m'_dirty_vars'\u001b[0m\u001b[1;33m,\u001b[0m \u001b[0mset\u001b[0m\u001b[1;33m(\u001b[0m\u001b[1;33m)\u001b[0m\u001b[1;33m)\u001b[0m\u001b[1;33m\u001b[0m\u001b[1;33m\u001b[0m\u001b[0m\n",
      "\u001b[1;32md:\\Coding\\bodies-at-rest\\env\\lib\\site-packages\\opendr-0.73-py3.8.egg\\opendr\\renderer.py\u001b[0m in \u001b[0;36m?\u001b[1;34m(self, which)\u001b[0m\n\u001b[0;32m   1076\u001b[0m         \u001b[1;32mif\u001b[0m \u001b[1;32mnot\u001b[0m \u001b[0mhasattr\u001b[0m\u001b[1;33m(\u001b[0m\u001b[0mself\u001b[0m\u001b[1;33m,\u001b[0m \u001b[1;34m'overdraw'\u001b[0m\u001b[1;33m)\u001b[0m\u001b[1;33m:\u001b[0m\u001b[1;33m\u001b[0m\u001b[1;33m\u001b[0m\u001b[0m\n\u001b[0;32m   1077\u001b[0m             \u001b[0mself\u001b[0m\u001b[1;33m.\u001b[0m\u001b[0moverdraw\u001b[0m \u001b[1;33m=\u001b[0m \u001b[1;32mTrue\u001b[0m\u001b[1;33m\u001b[0m\u001b[1;33m\u001b[0m\u001b[0m\n\u001b[0;32m   1078\u001b[0m \u001b[1;33m\u001b[0m\u001b[0m\n\u001b[0;32m   1079\u001b[0m         \u001b[1;32mif\u001b[0m \u001b[1;34m'v'\u001b[0m \u001b[1;32mor\u001b[0m \u001b[1;34m'f'\u001b[0m \u001b[1;32min\u001b[0m \u001b[0mwhich\u001b[0m\u001b[1;33m:\u001b[0m\u001b[1;33m\u001b[0m\u001b[1;33m\u001b[0m\u001b[0m\n\u001b[1;32m-> 1080\u001b[1;33m             \u001b[0mself\u001b[0m\u001b[1;33m.\u001b[0m\u001b[0mvbo_verts_face\u001b[0m\u001b[1;33m.\u001b[0m\u001b[0mset_array\u001b[0m\u001b[1;33m(\u001b[0m\u001b[0mnp\u001b[0m\u001b[1;33m.\u001b[0m\u001b[0marray\u001b[0m\u001b[1;33m(\u001b[0m\u001b[0mself\u001b[0m\u001b[1;33m.\u001b[0m\u001b[0mverts_by_face\u001b[0m\u001b[1;33m)\u001b[0m\u001b[1;33m.\u001b[0m\u001b[0mastype\u001b[0m\u001b[1;33m(\u001b[0m\u001b[0mnp\u001b[0m\u001b[1;33m.\u001b[0m\u001b[0mfloat32\u001b[0m\u001b[1;33m)\u001b[0m\u001b[1;33m)\u001b[0m\u001b[1;33m\u001b[0m\u001b[1;33m\u001b[0m\u001b[0m\n\u001b[0m\u001b[0;32m   1081\u001b[0m             \u001b[0mself\u001b[0m\u001b[1;33m.\u001b[0m\u001b[0mvbo_verts_face\u001b[0m\u001b[1;33m.\u001b[0m\u001b[0mbind\u001b[0m\u001b[1;33m(\u001b[0m\u001b[1;33m)\u001b[0m\u001b[1;33m\u001b[0m\u001b[1;33m\u001b[0m\u001b[0m\n\u001b[0;32m   1082\u001b[0m             \u001b[0mself\u001b[0m\u001b[1;33m.\u001b[0m\u001b[0mvbo_colors_face\u001b[0m\u001b[1;33m.\u001b[0m\u001b[0mset_array\u001b[0m\u001b[1;33m(\u001b[0m\u001b[0mnp\u001b[0m\u001b[1;33m.\u001b[0m\u001b[0marray\u001b[0m\u001b[1;33m(\u001b[0m\u001b[0mself\u001b[0m\u001b[1;33m.\u001b[0m\u001b[0mvc_by_face\u001b[0m\u001b[1;33m)\u001b[0m\u001b[1;33m.\u001b[0m\u001b[0mastype\u001b[0m\u001b[1;33m(\u001b[0m\u001b[0mnp\u001b[0m\u001b[1;33m.\u001b[0m\u001b[0mfloat32\u001b[0m\u001b[1;33m)\u001b[0m\u001b[1;33m)\u001b[0m\u001b[1;33m\u001b[0m\u001b[1;33m\u001b[0m\u001b[0m\n\u001b[0;32m   1083\u001b[0m             \u001b[0mself\u001b[0m\u001b[1;33m.\u001b[0m\u001b[0mvbo_colors_face\u001b[0m\u001b[1;33m.\u001b[0m\u001b[0mbind\u001b[0m\u001b[1;33m(\u001b[0m\u001b[1;33m)\u001b[0m\u001b[1;33m\u001b[0m\u001b[1;33m\u001b[0m\u001b[0m\n",
      "\u001b[1;31mAttributeError\u001b[0m: 'ColoredRenderer' object has no attribute 'vbo_verts_face'"
     ]
    }
   ],
   "source": [
    "import numpy as np\n",
    "\n",
    "from opendr.renderer import ColoredRenderer\n",
    "from opendr.lighting import LambertianPointLight\n",
    "from opendr.camera import ProjectPoints\n",
    "from smpl.smpl_webuser.serialization import load_model\n",
    "\n",
    "## Load SMPL model (here we load the female model)\n",
    "m = load_model('smpl/models/basicModel_f_lbs_10_207_0_v1.0.0.pkl')\n",
    "\n",
    "## Assign random pose and shape parameters\n",
    "# m.pose[:] = np.random.rand(m.pose.size) * .2\n",
    "# m.betas[:] = np.random.rand(m.betas.size) * .03\n",
    "# m.pose[0] = np.pi\n",
    "\n",
    "## Create OpenDR renderer\n",
    "rn = ColoredRenderer()\n",
    "\n",
    "## Assign attributes to renderer\n",
    "w, h = (640, 480)\n",
    "\n",
    "rn.camera = ProjectPoints(v=m, rt=np.zeros(3), t=np.array([0, 0, 2.]), f=np.array([w,w])/2., c=np.array([w,h])/2., k=np.zeros(5))\n",
    "rn.frustum = {'near': 1., 'far': 10., 'width': w, 'height': h}\n",
    "rn.set(v=m, f=m.f, bgcolor=np.zeros(3))\n",
    "\n",
    "## Construct point light source\n",
    "rn.vc = LambertianPointLight(\n",
    "    f=m.f,\n",
    "    v=rn.v,\n",
    "    num_verts=len(m),\n",
    "    light_pos=np.array([-1000,-1000,-2000]),\n",
    "    vc=np.ones_like(m)*.9,\n",
    "    light_color=np.array([1., 1., 1.]))\n",
    "\n",
    "\n",
    "## Show it using OpenCV\n",
    "import cv2\n",
    "cv2.imshow('render_SMPL', rn.r)\n",
    "print ('..Print any key while on the display window')\n",
    "cv2.waitKey(0)\n",
    "cv2.destroyAllWindows()\n",
    "\n",
    "\n",
    "## Could also use matplotlib to display\n",
    "# import matplotlib.pyplot as plt\n",
    "# plt.ion()\n",
    "# plt.imshow(rn.r)\n",
    "# plt.show()\n",
    "# import pdb; pdb.set_trace()"
   ]
  },
  {
   "cell_type": "code",
   "execution_count": 4,
   "metadata": {},
   "outputs": [
    {
     "name": "stdout",
     "output_type": "stream",
     "text": [
      "<module 'opendr.version' from 'd:\\\\Coding\\\\bodies-at-rest\\\\env\\\\lib\\\\site-packages\\\\opendr-0.73-py3.8.egg\\\\opendr\\\\version.py'>\n"
     ]
    }
   ],
   "source": [
    "import opendr\n",
    "\n",
    "print(opendr.__version__)"
   ]
  },
  {
   "cell_type": "code",
   "execution_count": null,
   "metadata": {},
   "outputs": [],
   "source": []
  }
 ],
 "metadata": {
  "kernelspec": {
   "display_name": "Python 3",
   "language": "python",
   "name": "python3"
  },
  "language_info": {
   "codemirror_mode": {
    "name": "ipython",
    "version": 3
   },
   "file_extension": ".py",
   "mimetype": "text/x-python",
   "name": "python",
   "nbconvert_exporter": "python",
   "pygments_lexer": "ipython3",
   "version": "3.8.19"
  }
 },
 "nbformat": 4,
 "nbformat_minor": 2
}
